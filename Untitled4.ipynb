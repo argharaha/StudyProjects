{
  "nbformat": 4,
  "nbformat_minor": 0,
  "metadata": {
    "colab": {
      "name": "Untitled4.ipynb",
      "provenance": [],
      "authorship_tag": "ABX9TyOCO+qIc03x/i2iTl2F6QgM",
      "include_colab_link": true
    },
    "kernelspec": {
      "name": "python3",
      "display_name": "Python 3"
    }
  },
  "cells": [
    {
      "cell_type": "markdown",
      "metadata": {
        "id": "view-in-github",
        "colab_type": "text"
      },
      "source": [
        "<a href=\"https://colab.research.google.com/github/argharaha/StudyProjects/blob/master/Untitled4.ipynb\" target=\"_parent\"><img src=\"https://colab.research.google.com/assets/colab-badge.svg\" alt=\"Open In Colab\"/></a>"
      ]
    },
    {
      "cell_type": "code",
      "metadata": {
        "id": "tFauCC72rl75",
        "colab_type": "code",
        "colab": {}
      },
      "source": [
        "import numpy as np\n",
        "import pandas as pd\n",
        "import tensorflow as tf"
      ],
      "execution_count": 0,
      "outputs": []
    },
    {
      "cell_type": "code",
      "metadata": {
        "id": "5RJLkc4DsY7D",
        "colab_type": "code",
        "colab": {}
      },
      "source": [
        "x  = np.arange(1,10000)"
      ],
      "execution_count": 0,
      "outputs": []
    },
    {
      "cell_type": "code",
      "metadata": {
        "id": "r7vxuPTssi3a",
        "colab_type": "code",
        "colab": {}
      },
      "source": [
        "m =10\n",
        "C= 10\n",
        "y= m*x+C"
      ],
      "execution_count": 0,
      "outputs": []
    },
    {
      "cell_type": "code",
      "metadata": {
        "id": "Y-MO4BzNwUQW",
        "colab_type": "code",
        "colab": {}
      },
      "source": [
        "model = tf.keras.Sequential([tf.keras.layers.Dense(units=1, input_shape=[1])])"
      ],
      "execution_count": 0,
      "outputs": []
    },
    {
      "cell_type": "code",
      "metadata": {
        "id": "v-rsG9CKxAAA",
        "colab_type": "code",
        "colab": {}
      },
      "source": [
        "model.add(tf.keras.layers.Dense(1, input_dim=[100]))"
      ],
      "execution_count": 0,
      "outputs": []
    },
    {
      "cell_type": "code",
      "metadata": {
        "id": "wk64H4OpxWi0",
        "colab_type": "code",
        "colab": {}
      },
      "source": [
        "model.add(tf.keras.layers.Dense(1,input_dim=[100]))"
      ],
      "execution_count": 0,
      "outputs": []
    },
    {
      "cell_type": "code",
      "metadata": {
        "id": "IVQugh4sxfNX",
        "colab_type": "code",
        "colab": {}
      },
      "source": [
        "model.compile(optimizer='adam', loss='mean_squared_error')"
      ],
      "execution_count": 0,
      "outputs": []
    },
    {
      "cell_type": "code",
      "metadata": {
        "id": "q2riwVo-xrud",
        "colab_type": "code",
        "colab": {
          "base_uri": "https://localhost:8080/",
          "height": 1000
        },
        "outputId": "e4d8fb92-5ca8-47a9-ce06-ff3274918c6c"
      },
      "source": [
        "model.fit(x,y, epochs=100)"
      ],
      "execution_count": 27,
      "outputs": [
        {
          "output_type": "stream",
          "text": [
            "Epoch 1/100\n",
            "313/313 [==============================] - 0s 948us/step - loss: 1576025472.0000\n",
            "Epoch 2/100\n",
            "313/313 [==============================] - 0s 986us/step - loss: 639310784.0000\n",
            "Epoch 3/100\n",
            "313/313 [==============================] - 0s 940us/step - loss: 111196336.0000\n",
            "Epoch 4/100\n",
            "313/313 [==============================] - 0s 925us/step - loss: 5636970.5000\n",
            "Epoch 5/100\n",
            "313/313 [==============================] - 0s 1ms/step - loss: 74676.7109\n",
            "Epoch 6/100\n",
            "313/313 [==============================] - 0s 945us/step - loss: 282.2315\n",
            "Epoch 7/100\n",
            "313/313 [==============================] - 0s 945us/step - loss: 2.1658\n",
            "Epoch 8/100\n",
            "313/313 [==============================] - 0s 930us/step - loss: 1.9000\n",
            "Epoch 9/100\n",
            "313/313 [==============================] - 0s 919us/step - loss: 1.8710\n",
            "Epoch 10/100\n",
            "313/313 [==============================] - 0s 933us/step - loss: 1.8355\n",
            "Epoch 11/100\n",
            "313/313 [==============================] - 0s 944us/step - loss: 1.8239\n",
            "Epoch 12/100\n",
            "313/313 [==============================] - 0s 998us/step - loss: 1.8096\n",
            "Epoch 13/100\n",
            "313/313 [==============================] - 0s 990us/step - loss: 1.7990\n",
            "Epoch 14/100\n",
            "313/313 [==============================] - 0s 888us/step - loss: 1.7926\n",
            "Epoch 15/100\n",
            "313/313 [==============================] - 0s 902us/step - loss: 1.7879\n",
            "Epoch 16/100\n",
            "313/313 [==============================] - 0s 977us/step - loss: 1.7865\n",
            "Epoch 17/100\n",
            "313/313 [==============================] - 0s 1ms/step - loss: 1.7845\n",
            "Epoch 18/100\n",
            "313/313 [==============================] - 0s 920us/step - loss: 1.7865\n",
            "Epoch 19/100\n",
            "313/313 [==============================] - 0s 968us/step - loss: 1.7815\n",
            "Epoch 20/100\n",
            "313/313 [==============================] - 0s 1ms/step - loss: 1.7785\n",
            "Epoch 21/100\n",
            "313/313 [==============================] - 0s 1ms/step - loss: 1.7765\n",
            "Epoch 22/100\n",
            "313/313 [==============================] - 0s 988us/step - loss: 1.7762\n",
            "Epoch 23/100\n",
            "313/313 [==============================] - 0s 900us/step - loss: 1.7720\n",
            "Epoch 24/100\n",
            "313/313 [==============================] - 0s 945us/step - loss: 1.7681\n",
            "Epoch 25/100\n",
            "313/313 [==============================] - 0s 986us/step - loss: 1.7627\n",
            "Epoch 26/100\n",
            "313/313 [==============================] - 0s 1ms/step - loss: 1.7541\n",
            "Epoch 27/100\n",
            "313/313 [==============================] - 0s 940us/step - loss: 1.7444\n",
            "Epoch 28/100\n",
            "313/313 [==============================] - 0s 919us/step - loss: 1.7374\n",
            "Epoch 29/100\n",
            "313/313 [==============================] - 0s 933us/step - loss: 1.7265\n",
            "Epoch 30/100\n",
            "313/313 [==============================] - 0s 919us/step - loss: 1.7104\n",
            "Epoch 31/100\n",
            "313/313 [==============================] - 0s 936us/step - loss: 1.6992\n",
            "Epoch 32/100\n",
            "313/313 [==============================] - 0s 930us/step - loss: 1.6816\n",
            "Epoch 33/100\n",
            "313/313 [==============================] - 0s 939us/step - loss: 1.6616\n",
            "Epoch 34/100\n",
            "313/313 [==============================] - 0s 924us/step - loss: 1.6402\n",
            "Epoch 35/100\n",
            "313/313 [==============================] - 0s 927us/step - loss: 1.6171\n",
            "Epoch 36/100\n",
            "313/313 [==============================] - 0s 929us/step - loss: 1.5834\n",
            "Epoch 37/100\n",
            "313/313 [==============================] - 0s 945us/step - loss: 1.5533\n",
            "Epoch 38/100\n",
            "313/313 [==============================] - 0s 920us/step - loss: 1.5155\n",
            "Epoch 39/100\n",
            "313/313 [==============================] - 0s 948us/step - loss: 1.4745\n",
            "Epoch 40/100\n",
            "313/313 [==============================] - 0s 941us/step - loss: 1.4156\n",
            "Epoch 41/100\n",
            "313/313 [==============================] - 0s 959us/step - loss: 1.3616\n",
            "Epoch 42/100\n",
            "313/313 [==============================] - 0s 929us/step - loss: 1.3064\n",
            "Epoch 43/100\n",
            "313/313 [==============================] - 0s 925us/step - loss: 1.2302\n",
            "Epoch 44/100\n",
            "313/313 [==============================] - 0s 899us/step - loss: 1.1517\n",
            "Epoch 45/100\n",
            "313/313 [==============================] - 0s 894us/step - loss: 1.0794\n",
            "Epoch 46/100\n",
            "313/313 [==============================] - 0s 927us/step - loss: 1.0018\n",
            "Epoch 47/100\n",
            "313/313 [==============================] - 0s 907us/step - loss: 0.8865\n",
            "Epoch 48/100\n",
            "313/313 [==============================] - 0s 910us/step - loss: 0.7935\n",
            "Epoch 49/100\n",
            "313/313 [==============================] - 0s 937us/step - loss: 0.6887\n",
            "Epoch 50/100\n",
            "313/313 [==============================] - 0s 924us/step - loss: 0.6000\n",
            "Epoch 51/100\n",
            "313/313 [==============================] - 0s 896us/step - loss: 0.4903\n",
            "Epoch 52/100\n",
            "313/313 [==============================] - 0s 921us/step - loss: 0.4545\n",
            "Epoch 53/100\n",
            "313/313 [==============================] - 0s 924us/step - loss: 0.3395\n",
            "Epoch 54/100\n",
            "313/313 [==============================] - 0s 943us/step - loss: 0.2358\n",
            "Epoch 55/100\n",
            "313/313 [==============================] - 0s 970us/step - loss: 0.2416\n",
            "Epoch 56/100\n",
            "313/313 [==============================] - 0s 969us/step - loss: 0.5541\n",
            "Epoch 57/100\n",
            "313/313 [==============================] - 0s 911us/step - loss: 6.1342\n",
            "Epoch 58/100\n",
            "313/313 [==============================] - 0s 915us/step - loss: 13.9451\n",
            "Epoch 59/100\n",
            "313/313 [==============================] - 0s 916us/step - loss: 0.7374\n",
            "Epoch 60/100\n",
            "313/313 [==============================] - 0s 936us/step - loss: 13.3968\n",
            "Epoch 61/100\n",
            "313/313 [==============================] - 0s 908us/step - loss: 0.4464\n",
            "Epoch 62/100\n",
            "313/313 [==============================] - 0s 919us/step - loss: 24.3946\n",
            "Epoch 63/100\n",
            "313/313 [==============================] - 0s 932us/step - loss: 0.0100\n",
            "Epoch 64/100\n",
            "313/313 [==============================] - 0s 912us/step - loss: 14.9549\n",
            "Epoch 65/100\n",
            "313/313 [==============================] - 0s 902us/step - loss: 4.7596\n",
            "Epoch 66/100\n",
            "313/313 [==============================] - 0s 941us/step - loss: 0.1283\n",
            "Epoch 67/100\n",
            "313/313 [==============================] - 0s 920us/step - loss: 23.7629\n",
            "Epoch 68/100\n",
            "313/313 [==============================] - 0s 898us/step - loss: 0.0066\n",
            "Epoch 69/100\n",
            "313/313 [==============================] - 0s 899us/step - loss: 13.5171\n",
            "Epoch 70/100\n",
            "313/313 [==============================] - 0s 943us/step - loss: 40.7018\n",
            "Epoch 71/100\n",
            "313/313 [==============================] - 0s 935us/step - loss: 3.4040e-04\n",
            "Epoch 72/100\n",
            "313/313 [==============================] - 0s 1ms/step - loss: 9.2866e-04\n",
            "Epoch 73/100\n",
            "313/313 [==============================] - 0s 988us/step - loss: 0.0076\n",
            "Epoch 74/100\n",
            "313/313 [==============================] - 0s 966us/step - loss: 9.0764\n",
            "Epoch 75/100\n",
            "313/313 [==============================] - 0s 917us/step - loss: 45.0820\n",
            "Epoch 76/100\n",
            "313/313 [==============================] - 0s 909us/step - loss: 6.4797e-04\n",
            "Epoch 77/100\n",
            "313/313 [==============================] - 0s 948us/step - loss: 0.0011\n",
            "Epoch 78/100\n",
            "313/313 [==============================] - 0s 998us/step - loss: 0.3402\n",
            "Epoch 79/100\n",
            "313/313 [==============================] - 0s 935us/step - loss: 33.8079\n",
            "Epoch 80/100\n",
            "313/313 [==============================] - 0s 952us/step - loss: 0.8085\n",
            "Epoch 81/100\n",
            "313/313 [==============================] - 0s 946us/step - loss: 0.0277\n",
            "Epoch 82/100\n",
            "313/313 [==============================] - 0s 937us/step - loss: 1.7646\n",
            "Epoch 83/100\n",
            "313/313 [==============================] - 0s 1ms/step - loss: 8.9829\n",
            "Epoch 84/100\n",
            "313/313 [==============================] - 0s 932us/step - loss: 17.0114\n",
            "Epoch 85/100\n",
            "313/313 [==============================] - 0s 913us/step - loss: 0.0093\n",
            "Epoch 86/100\n",
            "313/313 [==============================] - 0s 936us/step - loss: 13.6622\n",
            "Epoch 87/100\n",
            "313/313 [==============================] - 0s 1ms/step - loss: 0.1569\n",
            "Epoch 88/100\n",
            "313/313 [==============================] - 0s 978us/step - loss: 4.4458\n",
            "Epoch 89/100\n",
            "313/313 [==============================] - 0s 887us/step - loss: 31.3578\n",
            "Epoch 90/100\n",
            "313/313 [==============================] - 0s 929us/step - loss: 0.0012\n",
            "Epoch 91/100\n",
            "313/313 [==============================] - 0s 969us/step - loss: 0.0155\n",
            "Epoch 92/100\n",
            "313/313 [==============================] - 0s 916us/step - loss: 25.0386\n",
            "Epoch 93/100\n",
            "313/313 [==============================] - 0s 906us/step - loss: 0.0016\n",
            "Epoch 94/100\n",
            "313/313 [==============================] - 0s 922us/step - loss: 0.0126\n",
            "Epoch 95/100\n",
            "313/313 [==============================] - 0s 943us/step - loss: 18.0176\n",
            "Epoch 96/100\n",
            "313/313 [==============================] - 0s 923us/step - loss: 0.0015\n",
            "Epoch 97/100\n",
            "313/313 [==============================] - 0s 964us/step - loss: 68.9513\n",
            "Epoch 98/100\n",
            "313/313 [==============================] - 0s 917us/step - loss: 0.0019\n",
            "Epoch 99/100\n",
            "313/313 [==============================] - 0s 920us/step - loss: 4.0911e-04\n",
            "Epoch 100/100\n",
            "313/313 [==============================] - 0s 929us/step - loss: 0.0012\n"
          ],
          "name": "stdout"
        },
        {
          "output_type": "execute_result",
          "data": {
            "text/plain": [
              "<tensorflow.python.keras.callbacks.History at 0x7f6fd4997470>"
            ]
          },
          "metadata": {
            "tags": []
          },
          "execution_count": 27
        }
      ]
    },
    {
      "cell_type": "code",
      "metadata": {
        "id": "xN8sj9mP0K7X",
        "colab_type": "code",
        "colab": {
          "base_uri": "https://localhost:8080/",
          "height": 36
        },
        "outputId": "67e71b0d-acf2-4b34-b78e-56f53fdbee22"
      },
      "source": [
        "y=m*100+C\n",
        "print(y)"
      ],
      "execution_count": 28,
      "outputs": [
        {
          "output_type": "stream",
          "text": [
            "1010\n"
          ],
          "name": "stdout"
        }
      ]
    },
    {
      "cell_type": "code",
      "metadata": {
        "id": "_Uj7EAgG0W78",
        "colab_type": "code",
        "colab": {
          "base_uri": "https://localhost:8080/",
          "height": 36
        },
        "outputId": "170a3cee-e645-4f78-d3be-99b087e67f66"
      },
      "source": [
        "model.predict([100])"
      ],
      "execution_count": 29,
      "outputs": [
        {
          "output_type": "execute_result",
          "data": {
            "text/plain": [
              "array([[1009.9892]], dtype=float32)"
            ]
          },
          "metadata": {
            "tags": []
          },
          "execution_count": 29
        }
      ]
    }
  ]
}